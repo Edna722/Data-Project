{
 "cells": [
  {
   "cell_type": "code",
   "execution_count": 1,
   "metadata": {},
   "outputs": [
    {
     "name": "stdout",
     "output_type": "stream",
     "text": [
      "Collecting kaggle\n",
      "  Using cached kaggle-1.6.14.tar.gz (82 kB)\n",
      "Requirement already satisfied: six>=1.10 in c:\\users\\wanji\\anaconda3\\envs\\learn-env\\lib\\site-packages (from kaggle) (1.15.0)\n",
      "Requirement already satisfied: certifi>=2023.7.22 in c:\\users\\wanji\\anaconda3\\envs\\learn-env\\lib\\site-packages (from kaggle) (2023.11.17)\n",
      "Requirement already satisfied: python-dateutil in c:\\users\\wanji\\anaconda3\\envs\\learn-env\\lib\\site-packages (from kaggle) (2.8.2)\n",
      "Requirement already satisfied: requests in c:\\users\\wanji\\anaconda3\\envs\\learn-env\\lib\\site-packages (from kaggle) (2.31.0)\n",
      "Requirement already satisfied: tqdm in c:\\users\\wanji\\anaconda3\\envs\\learn-env\\lib\\site-packages (from kaggle) (4.50.2)\n",
      "Requirement already satisfied: python-slugify in c:\\users\\wanji\\anaconda3\\envs\\learn-env\\lib\\site-packages (from kaggle) (8.0.4)\n",
      "Requirement already satisfied: urllib3 in c:\\users\\wanji\\anaconda3\\envs\\learn-env\\lib\\site-packages (from kaggle) (1.25.10)\n",
      "Requirement already satisfied: bleach in c:\\users\\wanji\\anaconda3\\envs\\learn-env\\lib\\site-packages (from kaggle) (3.2.1)\n",
      "Requirement already satisfied: idna<4,>=2.5 in c:\\users\\wanji\\anaconda3\\envs\\learn-env\\lib\\site-packages (from requests->kaggle) (2.10)\n",
      "Requirement already satisfied: charset-normalizer<4,>=2 in c:\\users\\wanji\\anaconda3\\envs\\learn-env\\lib\\site-packages (from requests->kaggle) (3.3.2)\n",
      "Requirement already satisfied: text-unidecode>=1.3 in c:\\users\\wanji\\anaconda3\\envs\\learn-env\\lib\\site-packages (from python-slugify->kaggle) (1.3)\n",
      "Requirement already satisfied: webencodings in c:\\users\\wanji\\anaconda3\\envs\\learn-env\\lib\\site-packages (from bleach->kaggle) (0.5.1)\n",
      "Requirement already satisfied: packaging in c:\\users\\wanji\\anaconda3\\envs\\learn-env\\lib\\site-packages (from bleach->kaggle) (23.1)\n",
      "Building wheels for collected packages: kaggle\n",
      "  Building wheel for kaggle (setup.py): started\n",
      "  Building wheel for kaggle (setup.py): finished with status 'done'\n",
      "  Created wheel for kaggle: filename=kaggle-1.6.14-py3-none-any.whl size=105128 sha256=2ffd5cbbf5363eb75db17ef0b3f10b5cea7c96c89013d6367a9b7a9a7b9af720\n",
      "  Stored in directory: c:\\users\\wanji\\appdata\\local\\pip\\cache\\wheels\\d8\\3e\\73\\d260c9da20f77c8b16dd363273733109776f728fe8af6017a3\n",
      "Successfully built kaggle\n",
      "Installing collected packages: kaggle\n",
      "Successfully installed kaggle-1.6.14\n"
     ]
    }
   ],
   "source": [
    "!pip install kaggle "
   ]
  },
  {
   "cell_type": "code",
   "execution_count": 2,
   "metadata": {},
   "outputs": [],
   "source": [
    "import pandas as pd \n",
    "import numpy as np \n",
    "import kaggle"
   ]
  },
  {
   "cell_type": "code",
   "execution_count": 3,
   "metadata": {},
   "outputs": [
    {
     "name": "stdout",
     "output_type": "stream",
     "text": [
      "Dataset URL: https://www.kaggle.com/datasets/ankitbansal06/retail-orders\n",
      "License(s): CC0-1.0\n",
      "Downloading orders.csv.zip to c:\\Users\\wanji\\Desktop\\Data Project\n",
      "\n"
     ]
    },
    {
     "name": "stderr",
     "output_type": "stream",
     "text": [
      "\n",
      "  0%|          | 0.00/200k [00:00<?, ?B/s]\n",
      "100%|██████████| 200k/200k [00:01<00:00, 110kB/s]\n",
      "100%|██████████| 200k/200k [00:01<00:00, 110kB/s]\n"
     ]
    }
   ],
   "source": [
    "!kaggle datasets download ankitbansal06/retail-orders -f orders.csv"
   ]
  },
  {
   "cell_type": "code",
   "execution_count": 1,
   "metadata": {},
   "outputs": [],
   "source": [
    "# "
   ]
  },
  {
   "cell_type": "code",
   "execution_count": null,
   "metadata": {},
   "outputs": [],
   "source": []
  }
 ],
 "metadata": {
  "kernelspec": {
   "display_name": "learn-env",
   "language": "python",
   "name": "python3"
  },
  "language_info": {
   "codemirror_mode": {
    "name": "ipython",
    "version": 3
   },
   "file_extension": ".py",
   "mimetype": "text/x-python",
   "name": "python",
   "nbconvert_exporter": "python",
   "pygments_lexer": "ipython3",
   "version": "3.8.5"
  }
 },
 "nbformat": 4,
 "nbformat_minor": 2
}
